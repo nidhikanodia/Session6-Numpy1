{
 "cells": [
  {
   "cell_type": "code",
   "execution_count": 28,
   "metadata": {},
   "outputs": [
    {
     "name": "stdout",
     "output_type": "stream",
     "text": [
      "The input vector1 is:  [1 5 6]\n",
      "The output matrix1 is (increasing = False by default):\n",
      " [[ 1  1  1]\n",
      " [25  5  1]\n",
      " [36  6  1]]\n",
      "The input vector2 is:  [3 4 5 7]\n",
      "The output matrix2 is (increasing = True):\n",
      " [[  1   3   9  27]\n",
      " [  1   4  16  64]\n",
      " [  1   5  25 125]\n",
      " [  1   7  49 343]]\n"
     ]
    }
   ],
   "source": [
    "#A function so that the columns of the output matrix are powers of the input vector. \n",
    "#The order of the powers is determined by the increasing boolean argument. \n",
    "#Specifically,when increasing is False,the i-th output column is the input vector raised element-wise to the power of N - i - 1.\n",
    "\n",
    "#Import the numpy package\n",
    "import numpy as np\n",
    "\n",
    "#User defined function 'myfunc' which takes parameters as:\n",
    "#arr: The input vector\n",
    "#increasing: The boolean parameter to determine the order of the powers. Default is 'False'\n",
    "\n",
    "def myfunc(arr, increasing=False):\n",
    "    \n",
    "    #Get the size of input array \n",
    "    size = len(arr)\n",
    "    \n",
    "    #Check if the value of increasing is True or False\n",
    "    if increasing == True:\n",
    "        #Return the matrix in order of increasing powers\n",
    "        return np.fromfunction(lambda j, i: arr[j]**i, (size, size), dtype=int)\n",
    "    else:\n",
    "        #Return the matrix in order of decreasing powers\n",
    "        return np.fromfunction(lambda j, i: arr[j]**(size-i-1), (size, size), dtype=int)\n",
    "\n",
    "#Usage of myfunc function\n",
    "arr1 = np.array([1,5,6])\n",
    "mat1 = myfunc(arr1)\n",
    "print(\"The input vector1 is: \", arr1)\n",
    "print(\"The output matrix1 is (increasing = False by default):\\n\", mat1)\n",
    "\n",
    "arr2 = np.array([3,4,5,7])\n",
    "mat2 = myfunc(arr2, True)\n",
    "print(\"The input vector2 is: \", arr2)\n",
    "print(\"The output matrix2 is (increasing = True):\\n\", mat2)"
   ]
  },
  {
   "cell_type": "code",
   "execution_count": null,
   "metadata": {},
   "outputs": [],
   "source": []
  },
  {
   "cell_type": "code",
   "execution_count": null,
   "metadata": {},
   "outputs": [],
   "source": []
  }
 ],
 "metadata": {
  "kernelspec": {
   "display_name": "Python 3",
   "language": "python",
   "name": "python3"
  },
  "language_info": {
   "codemirror_mode": {
    "name": "ipython",
    "version": 3
   },
   "file_extension": ".py",
   "mimetype": "text/x-python",
   "name": "python",
   "nbconvert_exporter": "python",
   "pygments_lexer": "ipython3",
   "version": "3.7.2"
  }
 },
 "nbformat": 4,
 "nbformat_minor": 2
}
